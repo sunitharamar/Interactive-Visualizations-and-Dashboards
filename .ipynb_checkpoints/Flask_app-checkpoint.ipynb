{
 "cells": [
  {
   "cell_type": "code",
   "execution_count": 8,
   "metadata": {
    "collapsed": true
   },
   "outputs": [],
   "source": [
    "# Import SQL Alchemy and check to inspect my tables in this sqlite db.\n",
    "import sqlalchemy\n",
    "from sqlalchemy import create_engine, inspect\n",
    "from sqlalchemy.engine import reflection\n",
    " \n",
    " "
   ]
  },
  {
   "cell_type": "code",
   "execution_count": 9,
   "metadata": {},
   "outputs": [
    {
     "name": "stdout",
     "output_type": "stream",
     "text": [
      "db/belly_button_biodiversity.sqlite\n"
     ]
    }
   ],
   "source": [
    "from sqlalchemy.ext.automap import automap_base\n",
    "from sqlalchemy.orm import Session\n",
    "import os\n",
    "dbfile = os.path.join('db', 'belly_button_biodiversity.sqlite')\n",
    "print(dbfile)\n",
    "  "
   ]
  },
  {
   "cell_type": "code",
   "execution_count": 10,
   "metadata": {},
   "outputs": [
    {
     "name": "stdout",
     "output_type": "stream",
     "text": [
      "Engine(sqlite:///db/belly_button_biodiversity.sqlite)\n"
     ]
    }
   ],
   "source": [
    "engine = create_engine(f\"sqlite:///{dbfile}\")\n",
    "print(engine)\n",
    " "
   ]
  },
  {
   "cell_type": "markdown",
   "metadata": {},
   "source": [
    "## Database Exploration"
   ]
  },
  {
   "cell_type": "code",
   "execution_count": 11,
   "metadata": {},
   "outputs": [
    {
     "data": {
      "text/plain": [
       "['otu', 'samples', 'samples_metadata']"
      ]
     },
     "execution_count": 11,
     "metadata": {},
     "output_type": "execute_result"
    }
   ],
   "source": [
    "# To get the table names in the database to inspect\n",
    "inspector = inspect(engine)\n",
    "inspector.get_table_names()"
   ]
  },
  {
   "cell_type": "code",
   "execution_count": 12,
   "metadata": {},
   "outputs": [
    {
     "data": {
      "text/plain": [
       "[(1, 'Archaea;Euryarchaeota;Halobacteria;Halobacteriales;Halobacteriaceae;Halococcus'),\n",
       " (2, 'Archaea;Euryarchaeota;Halobacteria;Halobacteriales;Halobacteriaceae;Halococcus'),\n",
       " (3, 'Archaea;Euryarchaeota;Halobacteria;Halobacteriales;Halobacteriaceae;Natronorubrum'),\n",
       " (4, 'Archaea;Euryarchaeota;Methanobacteria;Methanobacteriales;Methanobacteriaceae;Methanobrevibacter'),\n",
       " (5, 'Archaea;Euryarchaeota;Methanobacteria;Methanobacteriales;Methanobacteriaceae;Methanobrevibacter'),\n",
       " (6, 'Archaea;Euryarchaeota;Methanobacteria;Methanobacteriales;Methanobacteriaceae;Methanobrevibacter'),\n",
       " (7, 'Bacteria'),\n",
       " (8, 'Bacteria'),\n",
       " (9, 'Bacteria')]"
      ]
     },
     "execution_count": 12,
     "metadata": {},
     "output_type": "execute_result"
    }
   ],
   "source": [
    "engine.execute('SELECT * FROM otu LIMIT 9').fetchall() "
   ]
  },
  {
   "cell_type": "code",
   "execution_count": 13,
   "metadata": {},
   "outputs": [
    {
     "data": {
      "text/plain": [
       "[(1, 0, 0, 0, 0, 0, 0, 0, 0, 0, 0, 0, 0, 0, 0, 0, 0, 0, 0, 0, 0, 0, 0, 1, 0, 0, 0, 0, 0, 0, 0, 0, 0, 0, 0, 0, 0, 0, 0, 0, 0, 0, 0, 0, 0, 0, 0, 0, 0, 0, 0, 0, 0, 0, 0, 0, 0, 0, 0, 0, 0, 0, 0, 0, 0, 0, 0, 0, 0, 0, 0, 0, 0, 0, 0, 0, 0, 0, 0, 0, 0, 0, 0, 0, 0, 0, 0, 0, 0, 0, 0, 0, 0, 0, 0, 0, 0, 0, 0, 0, 0, 0, 0, 0, 0, 0, 0, 0, 0, 0, 0, 0, 0, 0, 0, 0, 0, 0, 0, 0, 0, 0, 0, 0, 0, 0, 0, 0, 0, 0, 0, 0, 0, 0, 0, 0, 0, 0, 0, 0, 0, 0, 0, 0, 0, 0, 0, 0, 0, 0, 0, 0, 0, 0),\n",
       " (2, 0, 0, 0, 0, 0, 0, 0, 0, 0, 0, 0, 0, 0, 0, 0, 0, 0, 0, 0, 0, 0, 0, 4, 0, 0, 0, 0, 0, 0, 0, 0, 0, 0, 0, 0, 0, 0, 0, 0, 0, 0, 0, 0, 0, 0, 0, 0, 0, 0, 0, 0, 0, 0, 0, 0, 0, 0, 0, 0, 0, 0, 0, 0, 0, 0, 0, 0, 0, 0, 0, 0, 0, 0, 0, 0, 0, 0, 0, 0, 0, 0, 0, 0, 0, 0, 0, 0, 0, 0, 0, 0, 0, 0, 0, 0, 0, 0, 0, 0, 0, 0, 0, 0, 0, 0, 0, 0, 0, 0, 0, 0, 0, 0, 0, 0, 0, 0, 0, 0, 0, 0, 0, 0, 0, 0, 0, 0, 0, 0, 0, 0, 0, 0, 0, 0, 0, 0, 0, 0, 0, 0, 0, 0, 0, 0, 0, 0, 0, 0, 0, 0, 0, 0),\n",
       " (3, 0, 0, 0, 0, 0, 0, 0, 0, 0, 0, 0, 0, 0, 0, 0, 0, 0, 0, 0, 0, 0, 0, 0, 0, 0, 0, 0, 0, 0, 0, 0, 0, 0, 0, 0, 0, 0, 0, 0, 0, 0, 0, 0, 0, 0, 0, 0, 0, 0, 0, 0, 0, 0, 0, 0, 0, 0, 0, 0, 0, 0, 0, 0, 0, 0, 0, 0, 0, 0, 0, 1, 0, 0, 0, 0, 0, 0, 0, 0, 0, 0, 0, 0, 0, 0, 0, 0, 0, 0, 0, 0, 0, 0, 0, 0, 0, 0, 0, 0, 0, 0, 0, 0, 0, 0, 0, 0, 0, 0, 0, 0, 0, 0, 0, 0, 0, 0, 0, 0, 0, 0, 0, 0, 0, 0, 0, 0, 0, 0, 0, 0, 0, 0, 0, 0, 0, 0, 0, 0, 0, 0, 0, 0, 0, 0, 0, 0, 0, 0, 0, 0, 0, 0)]"
      ]
     },
     "execution_count": 13,
     "metadata": {},
     "output_type": "execute_result"
    }
   ],
   "source": [
    "engine.execute('SELECT * FROM samples LIMIT 3').fetchall() "
   ]
  },
  {
   "cell_type": "code",
   "execution_count": 14,
   "metadata": {},
   "outputs": [
    {
     "data": {
      "text/plain": [
       "[(940, 'BellyButtonsScienceOnline', 'Caucasian', 'F', 24, 2, 'I', 'Beaufort/NC', 'usa', 22306, 'usa', 22306, 'no', 'no', 8852, 37.17222214, 54.5, 0.0, 1, 0.0, 33.99000168, 25.5),\n",
       " (941, '0', 'Caucasian/Midleastern', 'F', 34, 1, 'I', 'Chicago/IL', '0', 0, '0', 0, '0', '0', 0, 0.0, 0.0, 0.0, 0, 0.0, 0.0, 0.0),\n",
       " (943, 'BellyButtonsScienceOnline', 'Caucasian', 'F', 49, 1, 'I', 'Omaha/NE', '0', 0, '0', 0, '0', '0', 0, 0.0, 0.0, 0.0, 0, 0.0, 0.0, 0.0),\n",
       " (944, 'BellyButtonsScienceOnline', 'European', 'M', 44, 1, 'I', 'NewHaven/CT', 'usa', 7079, 'usa', 8822, 'no', 'yes', 0, 35.81666565, 16.0, 0.0, 0, 6567.0, 32.40333176, 28.5),\n",
       " (945, 'BellyButtonsScienceOnline', 'Caucasian', 'F', 48, 1, 'I', 'Philidelphia/PA', 'usa', 84404, 'usa', 96025, 'no', 'no', 0, 37.78333282, 4.0, 0.0, 0, 5613.0, 33.63444519, 24.0)]"
      ]
     },
     "execution_count": 14,
     "metadata": {},
     "output_type": "execute_result"
    }
   ],
   "source": [
    "engine.execute('SELECT * FROM samples_metadata LIMIT 5').fetchall() "
   ]
  },
  {
   "cell_type": "code",
   "execution_count": 15,
   "metadata": {},
   "outputs": [
    {
     "name": "stdout",
     "output_type": "stream",
     "text": [
      "otu_id INTEGER\n",
      "lowest_taxonomic_unit_found TEXT\n"
     ]
    }
   ],
   "source": [
    "columns = inspector.get_columns('otu')\n",
    "for c in columns:\n",
    "    print(c['name'], c[\"type\"])"
   ]
  },
  {
   "cell_type": "code",
   "execution_count": 19,
   "metadata": {},
   "outputs": [
    {
     "name": "stdout",
     "output_type": "stream",
     "text": [
      "otu_id INTEGER\n",
      "BB_940 INTEGER\n",
      "BB_941 INTEGER\n",
      "BB_943 INTEGER\n",
      "BB_944 INTEGER\n",
      "BB_945 INTEGER\n",
      "BB_946 INTEGER\n",
      "BB_947 INTEGER\n",
      "BB_948 INTEGER\n",
      "BB_949 INTEGER\n",
      "BB_950 INTEGER\n",
      "BB_952 INTEGER\n",
      "BB_953 INTEGER\n",
      "BB_954 INTEGER\n",
      "BB_955 INTEGER\n",
      "BB_956 INTEGER\n",
      "BB_958 INTEGER\n",
      "BB_959 INTEGER\n",
      "BB_960 INTEGER\n",
      "BB_961 INTEGER\n",
      "BB_962 INTEGER\n",
      "BB_963 INTEGER\n",
      "BB_964 INTEGER\n",
      "BB_966 INTEGER\n",
      "BB_967 INTEGER\n",
      "BB_968 INTEGER\n",
      "BB_969 INTEGER\n",
      "BB_970 INTEGER\n",
      "BB_971 INTEGER\n",
      "BB_972 INTEGER\n",
      "BB_973 INTEGER\n",
      "BB_974 INTEGER\n",
      "BB_975 INTEGER\n",
      "BB_978 INTEGER\n",
      "BB_1233 INTEGER\n",
      "BB_1234 INTEGER\n",
      "BB_1235 INTEGER\n",
      "BB_1236 INTEGER\n",
      "BB_1237 INTEGER\n",
      "BB_1238 INTEGER\n",
      "BB_1242 INTEGER\n",
      "BB_1243 INTEGER\n",
      "BB_1246 INTEGER\n",
      "BB_1253 INTEGER\n",
      "BB_1254 INTEGER\n",
      "BB_1258 INTEGER\n",
      "BB_1259 INTEGER\n",
      "BB_1260 INTEGER\n",
      "BB_1264 INTEGER\n",
      "BB_1265 INTEGER\n",
      "BB_1273 INTEGER\n",
      "BB_1275 INTEGER\n",
      "BB_1276 INTEGER\n",
      "BB_1277 INTEGER\n",
      "BB_1278 INTEGER\n",
      "BB_1279 INTEGER\n",
      "BB_1280 INTEGER\n",
      "BB_1281 INTEGER\n",
      "BB_1282 INTEGER\n",
      "BB_1283 INTEGER\n",
      "BB_1284 INTEGER\n",
      "BB_1285 INTEGER\n",
      "BB_1286 INTEGER\n",
      "BB_1287 INTEGER\n",
      "BB_1288 INTEGER\n",
      "BB_1289 INTEGER\n",
      "BB_1290 INTEGER\n",
      "BB_1291 INTEGER\n",
      "BB_1292 INTEGER\n",
      "BB_1293 INTEGER\n",
      "BB_1294 INTEGER\n",
      "BB_1295 INTEGER\n",
      "BB_1296 INTEGER\n",
      "BB_1297 INTEGER\n",
      "BB_1298 INTEGER\n",
      "BB_1308 INTEGER\n",
      "BB_1309 INTEGER\n",
      "BB_1310 INTEGER\n",
      "BB_1374 INTEGER\n",
      "BB_1415 INTEGER\n",
      "BB_1439 INTEGER\n",
      "BB_1441 INTEGER\n",
      "BB_1443 INTEGER\n",
      "BB_1486 INTEGER\n",
      "BB_1487 INTEGER\n",
      "BB_1489 INTEGER\n",
      "BB_1490 INTEGER\n",
      "BB_1491 INTEGER\n",
      "BB_1494 INTEGER\n",
      "BB_1495 INTEGER\n",
      "BB_1497 INTEGER\n",
      "BB_1499 INTEGER\n",
      "BB_1500 INTEGER\n",
      "BB_1501 INTEGER\n",
      "BB_1502 INTEGER\n",
      "BB_1503 INTEGER\n",
      "BB_1504 INTEGER\n",
      "BB_1505 INTEGER\n",
      "BB_1506 INTEGER\n",
      "BB_1507 INTEGER\n",
      "BB_1508 INTEGER\n",
      "BB_1510 INTEGER\n",
      "BB_1511 INTEGER\n",
      "BB_1512 INTEGER\n",
      "BB_1513 INTEGER\n",
      "BB_1514 INTEGER\n",
      "BB_1515 INTEGER\n",
      "BB_1516 INTEGER\n",
      "BB_1517 INTEGER\n",
      "BB_1518 INTEGER\n",
      "BB_1519 INTEGER\n",
      "BB_1521 INTEGER\n",
      "BB_1524 INTEGER\n",
      "BB_1526 INTEGER\n",
      "BB_1527 INTEGER\n",
      "BB_1530 INTEGER\n",
      "BB_1531 INTEGER\n",
      "BB_1532 INTEGER\n",
      "BB_1533 INTEGER\n",
      "BB_1534 INTEGER\n",
      "BB_1535 INTEGER\n",
      "BB_1536 INTEGER\n",
      "BB_1537 INTEGER\n",
      "BB_1539 INTEGER\n",
      "BB_1540 INTEGER\n",
      "BB_1541 INTEGER\n",
      "BB_1542 INTEGER\n",
      "BB_1543 INTEGER\n",
      "BB_1544 INTEGER\n",
      "BB_1545 INTEGER\n",
      "BB_1546 INTEGER\n",
      "BB_1547 INTEGER\n",
      "BB_1548 INTEGER\n",
      "BB_1549 INTEGER\n",
      "BB_1550 INTEGER\n",
      "BB_1551 INTEGER\n",
      "BB_1552 INTEGER\n",
      "BB_1553 INTEGER\n",
      "BB_1554 INTEGER\n",
      "BB_1555 INTEGER\n",
      "BB_1556 INTEGER\n",
      "BB_1557 INTEGER\n",
      "BB_1558 INTEGER\n",
      "BB_1561 INTEGER\n",
      "BB_1562 INTEGER\n",
      "BB_1563 INTEGER\n",
      "BB_1564 INTEGER\n",
      "BB_1572 INTEGER\n",
      "BB_1573 INTEGER\n",
      "BB_1574 INTEGER\n",
      "BB_1576 INTEGER\n",
      "BB_1577 INTEGER\n",
      "BB_1581 INTEGER\n",
      "BB_1601 INTEGER\n"
     ]
    },
    {
     "data": {
      "text/plain": [
       "154"
      ]
     },
     "execution_count": 19,
     "metadata": {},
     "output_type": "execute_result"
    }
   ],
   "source": [
    "columns = inspector.get_columns('samples')\n",
    " \n",
    "for c in columns:\n",
    "    print(c['name'], c[\"type\"] )\n",
    "\n",
    "len(columns)    "
   ]
  },
  {
   "cell_type": "code",
   "execution_count": 4,
   "metadata": {
    "collapsed": true
   },
   "outputs": [],
   "source": [
    "list = [1,2,3]"
   ]
  },
  {
   "cell_type": "code",
   "execution_count": 11,
   "metadata": {},
   "outputs": [
    {
     "data": {
      "text/plain": [
       "[1, 4, 9]"
      ]
     },
     "execution_count": 11,
     "metadata": {},
     "output_type": "execute_result"
    }
   ],
   "source": [
    "[element**2 for element in list]"
   ]
  },
  {
   "cell_type": "code",
   "execution_count": 12,
   "metadata": {},
   "outputs": [
    {
     "data": {
      "text/plain": [
       "['BB_940',\n",
       " 'BB_941',\n",
       " 'BB_943',\n",
       " 'BB_944',\n",
       " 'BB_945',\n",
       " 'BB_946',\n",
       " 'BB_947',\n",
       " 'BB_948',\n",
       " 'BB_949',\n",
       " 'BB_950',\n",
       " 'BB_952',\n",
       " 'BB_953',\n",
       " 'BB_954',\n",
       " 'BB_955',\n",
       " 'BB_956',\n",
       " 'BB_958',\n",
       " 'BB_959',\n",
       " 'BB_960',\n",
       " 'BB_961',\n",
       " 'BB_962',\n",
       " 'BB_963',\n",
       " 'BB_964',\n",
       " 'BB_966',\n",
       " 'BB_967',\n",
       " 'BB_968',\n",
       " 'BB_969',\n",
       " 'BB_970',\n",
       " 'BB_971',\n",
       " 'BB_972',\n",
       " 'BB_973',\n",
       " 'BB_974',\n",
       " 'BB_975',\n",
       " 'BB_978',\n",
       " 'BB_1233',\n",
       " 'BB_1234',\n",
       " 'BB_1235',\n",
       " 'BB_1236',\n",
       " 'BB_1237',\n",
       " 'BB_1238',\n",
       " 'BB_1242',\n",
       " 'BB_1243',\n",
       " 'BB_1246',\n",
       " 'BB_1253',\n",
       " 'BB_1254',\n",
       " 'BB_1258',\n",
       " 'BB_1259',\n",
       " 'BB_1260',\n",
       " 'BB_1264',\n",
       " 'BB_1265',\n",
       " 'BB_1273',\n",
       " 'BB_1275',\n",
       " 'BB_1276',\n",
       " 'BB_1277',\n",
       " 'BB_1278',\n",
       " 'BB_1279',\n",
       " 'BB_1280',\n",
       " 'BB_1281',\n",
       " 'BB_1282',\n",
       " 'BB_1283',\n",
       " 'BB_1284',\n",
       " 'BB_1285',\n",
       " 'BB_1286',\n",
       " 'BB_1287',\n",
       " 'BB_1288',\n",
       " 'BB_1289',\n",
       " 'BB_1290',\n",
       " 'BB_1291',\n",
       " 'BB_1292',\n",
       " 'BB_1293',\n",
       " 'BB_1294',\n",
       " 'BB_1295',\n",
       " 'BB_1296',\n",
       " 'BB_1297',\n",
       " 'BB_1298',\n",
       " 'BB_1308',\n",
       " 'BB_1309',\n",
       " 'BB_1310',\n",
       " 'BB_1374',\n",
       " 'BB_1415',\n",
       " 'BB_1439',\n",
       " 'BB_1441',\n",
       " 'BB_1443',\n",
       " 'BB_1486',\n",
       " 'BB_1487',\n",
       " 'BB_1489',\n",
       " 'BB_1490',\n",
       " 'BB_1491',\n",
       " 'BB_1494',\n",
       " 'BB_1495',\n",
       " 'BB_1497',\n",
       " 'BB_1499',\n",
       " 'BB_1500',\n",
       " 'BB_1501',\n",
       " 'BB_1502',\n",
       " 'BB_1503',\n",
       " 'BB_1504',\n",
       " 'BB_1505',\n",
       " 'BB_1506',\n",
       " 'BB_1507',\n",
       " 'BB_1508',\n",
       " 'BB_1510',\n",
       " 'BB_1511',\n",
       " 'BB_1512',\n",
       " 'BB_1513',\n",
       " 'BB_1514',\n",
       " 'BB_1515',\n",
       " 'BB_1516',\n",
       " 'BB_1517',\n",
       " 'BB_1518',\n",
       " 'BB_1519',\n",
       " 'BB_1521',\n",
       " 'BB_1524',\n",
       " 'BB_1526',\n",
       " 'BB_1527',\n",
       " 'BB_1530',\n",
       " 'BB_1531',\n",
       " 'BB_1532',\n",
       " 'BB_1533',\n",
       " 'BB_1534',\n",
       " 'BB_1535',\n",
       " 'BB_1536',\n",
       " 'BB_1537',\n",
       " 'BB_1539',\n",
       " 'BB_1540',\n",
       " 'BB_1541',\n",
       " 'BB_1542',\n",
       " 'BB_1543',\n",
       " 'BB_1544',\n",
       " 'BB_1545',\n",
       " 'BB_1546',\n",
       " 'BB_1547',\n",
       " 'BB_1548',\n",
       " 'BB_1549',\n",
       " 'BB_1550',\n",
       " 'BB_1551',\n",
       " 'BB_1552',\n",
       " 'BB_1553',\n",
       " 'BB_1554',\n",
       " 'BB_1555',\n",
       " 'BB_1556',\n",
       " 'BB_1557',\n",
       " 'BB_1558',\n",
       " 'BB_1561',\n",
       " 'BB_1562',\n",
       " 'BB_1563',\n",
       " 'BB_1564',\n",
       " 'BB_1572',\n",
       " 'BB_1573',\n",
       " 'BB_1574',\n",
       " 'BB_1576',\n",
       " 'BB_1577',\n",
       " 'BB_1581',\n",
       " 'BB_1601']"
      ]
     },
     "execution_count": 12,
     "metadata": {},
     "output_type": "execute_result"
    }
   ],
   "source": [
    "columns = inspector.get_columns('samples')\n",
    "\n",
    "column_names = [c['name'] for c in columns][1:]\n",
    "column_names"
   ]
  },
  {
   "cell_type": "code",
   "execution_count": 13,
   "metadata": {},
   "outputs": [
    {
     "name": "stdout",
     "output_type": "stream",
     "text": [
      "SAMPLEID INTEGER\n",
      "EVENT TEXT\n",
      "ETHNICITY TEXT\n",
      "GENDER TEXT\n",
      "AGE INTEGER\n",
      "WFREQ INTEGER\n",
      "BBTYPE TEXT\n",
      "LOCATION TEXT\n",
      "COUNTRY012 TEXT\n",
      "ZIP012 INTEGER\n",
      "COUNTRY1319 TEXT\n",
      "ZIP1319 INTEGER\n",
      "DOG TEXT\n",
      "CAT TEXT\n",
      "IMPSURFACE013 INTEGER\n",
      "NPP013 FLOAT\n",
      "MMAXTEMP013 FLOAT\n",
      "PFC013 FLOAT\n",
      "IMPSURFACE1319 INTEGER\n",
      "NPP1319 FLOAT\n",
      "MMAXTEMP1319 FLOAT\n",
      "PFC1319 FLOAT\n"
     ]
    }
   ],
   "source": [
    "columns = inspector.get_columns('samples_metadata')\n",
    "for c in columns:\n",
    "    print(c['name'], c[\"type\"])"
   ]
  },
  {
   "cell_type": "code",
   "execution_count": 14,
   "metadata": {},
   "outputs": [
    {
     "name": "stdout",
     "output_type": "stream",
     "text": [
      "<sqlalchemy.orm.session.Session object at 0x10dad4320>\n"
     ]
    }
   ],
   "source": [
    "# Create a session\n",
    "session = Session(engine)\n",
    "print(session)"
   ]
  },
  {
   "cell_type": "markdown",
   "metadata": {},
   "source": [
    "## Reflect database"
   ]
  },
  {
   "cell_type": "code",
   "execution_count": 29,
   "metadata": {},
   "outputs": [
    {
     "data": {
      "text/plain": [
       "['otu', 'samples', 'samples_metadata']"
      ]
     },
     "execution_count": 29,
     "metadata": {},
     "output_type": "execute_result"
    }
   ],
   "source": [
    "# Reflect Database into ORM class\n",
    "\n",
    "# Object-relational mapping (ORM, mapping tool) in computer science is a \n",
    "# programming technique for converting data between incompatible type systems \n",
    "#using object-oriented programming languages. This creates, in effect, \n",
    "#a \"virtual object database\" that can be used from within the programming language.\n",
    "\n",
    "\n",
    "Base = automap_base()\n",
    "\n",
    "# Use the Base class to reflect the database tables\n",
    "Base.prepare(engine, reflect=True)\n",
    "\n",
    "# Print all of the classes mapped to the Base\n",
    "Base.classes.keys()"
   ]
  },
  {
   "cell_type": "code",
   "execution_count": 30,
   "metadata": {
    "collapsed": true
   },
   "outputs": [],
   "source": [
    "# Assign the measurement and station  classes to the variables called `Measurements` and 'Stations'\n",
    "otu = Base.classes.otu\n",
    "samples = Base.classes.samples\n",
    "samples_metadata = Base.classes.samples_metadata\n",
    "\n",
    "# Create a session\n",
    "session = Session(engine)"
   ]
  },
  {
   "cell_type": "code",
   "execution_count": 31,
   "metadata": {},
   "outputs": [
    {
     "data": {
      "text/plain": [
       "{'_sa_instance_state': <sqlalchemy.orm.state.InstanceState at 0x103599208>,\n",
       " 'lowest_taxonomic_unit_found': 'Archaea;Euryarchaeota;Halobacteria;Halobacteriales;Halobacteriaceae;Halococcus',\n",
       " 'otu_id': 1}"
      ]
     },
     "execution_count": 31,
     "metadata": {},
     "output_type": "execute_result"
    }
   ],
   "source": [
    "# Display the row's columns and data in dictionary format\n",
    "\n",
    "otu_data = session.query(otu).first()\n",
    "otu_data.__dict__\n",
    " "
   ]
  },
  {
   "cell_type": "code",
   "execution_count": 32,
   "metadata": {},
   "outputs": [
    {
     "data": {
      "text/plain": [
       "{'BB_1233': 0,\n",
       " 'BB_1234': 0,\n",
       " 'BB_1235': 0,\n",
       " 'BB_1236': 0,\n",
       " 'BB_1237': 0,\n",
       " 'BB_1238': 0,\n",
       " 'BB_1242': 0,\n",
       " 'BB_1243': 0,\n",
       " 'BB_1246': 0,\n",
       " 'BB_1253': 0,\n",
       " 'BB_1254': 0,\n",
       " 'BB_1258': 0,\n",
       " 'BB_1259': 0,\n",
       " 'BB_1260': 0,\n",
       " 'BB_1264': 0,\n",
       " 'BB_1265': 0,\n",
       " 'BB_1273': 0,\n",
       " 'BB_1275': 0,\n",
       " 'BB_1276': 0,\n",
       " 'BB_1277': 0,\n",
       " 'BB_1278': 0,\n",
       " 'BB_1279': 0,\n",
       " 'BB_1280': 0,\n",
       " 'BB_1281': 0,\n",
       " 'BB_1282': 0,\n",
       " 'BB_1283': 0,\n",
       " 'BB_1284': 0,\n",
       " 'BB_1285': 0,\n",
       " 'BB_1286': 0,\n",
       " 'BB_1287': 0,\n",
       " 'BB_1288': 0,\n",
       " 'BB_1289': 0,\n",
       " 'BB_1290': 0,\n",
       " 'BB_1291': 0,\n",
       " 'BB_1292': 0,\n",
       " 'BB_1293': 0,\n",
       " 'BB_1294': 0,\n",
       " 'BB_1295': 0,\n",
       " 'BB_1296': 0,\n",
       " 'BB_1297': 0,\n",
       " 'BB_1298': 0,\n",
       " 'BB_1308': 0,\n",
       " 'BB_1309': 0,\n",
       " 'BB_1310': 0,\n",
       " 'BB_1374': 0,\n",
       " 'BB_1415': 0,\n",
       " 'BB_1439': 0,\n",
       " 'BB_1441': 0,\n",
       " 'BB_1443': 0,\n",
       " 'BB_1486': 0,\n",
       " 'BB_1487': 0,\n",
       " 'BB_1489': 0,\n",
       " 'BB_1490': 0,\n",
       " 'BB_1491': 0,\n",
       " 'BB_1494': 0,\n",
       " 'BB_1495': 0,\n",
       " 'BB_1497': 0,\n",
       " 'BB_1499': 0,\n",
       " 'BB_1500': 0,\n",
       " 'BB_1501': 0,\n",
       " 'BB_1502': 0,\n",
       " 'BB_1503': 0,\n",
       " 'BB_1504': 0,\n",
       " 'BB_1505': 0,\n",
       " 'BB_1506': 0,\n",
       " 'BB_1507': 0,\n",
       " 'BB_1508': 0,\n",
       " 'BB_1510': 0,\n",
       " 'BB_1511': 0,\n",
       " 'BB_1512': 0,\n",
       " 'BB_1513': 0,\n",
       " 'BB_1514': 0,\n",
       " 'BB_1515': 0,\n",
       " 'BB_1516': 0,\n",
       " 'BB_1517': 0,\n",
       " 'BB_1518': 0,\n",
       " 'BB_1519': 0,\n",
       " 'BB_1521': 0,\n",
       " 'BB_1524': 0,\n",
       " 'BB_1526': 0,\n",
       " 'BB_1527': 0,\n",
       " 'BB_1530': 0,\n",
       " 'BB_1531': 0,\n",
       " 'BB_1532': 0,\n",
       " 'BB_1533': 0,\n",
       " 'BB_1534': 0,\n",
       " 'BB_1535': 0,\n",
       " 'BB_1536': 0,\n",
       " 'BB_1537': 0,\n",
       " 'BB_1539': 0,\n",
       " 'BB_1540': 0,\n",
       " 'BB_1541': 0,\n",
       " 'BB_1542': 0,\n",
       " 'BB_1543': 0,\n",
       " 'BB_1544': 0,\n",
       " 'BB_1545': 0,\n",
       " 'BB_1546': 0,\n",
       " 'BB_1547': 0,\n",
       " 'BB_1548': 0,\n",
       " 'BB_1549': 0,\n",
       " 'BB_1550': 0,\n",
       " 'BB_1551': 0,\n",
       " 'BB_1552': 0,\n",
       " 'BB_1553': 0,\n",
       " 'BB_1554': 0,\n",
       " 'BB_1555': 0,\n",
       " 'BB_1556': 0,\n",
       " 'BB_1557': 0,\n",
       " 'BB_1558': 0,\n",
       " 'BB_1561': 0,\n",
       " 'BB_1562': 0,\n",
       " 'BB_1563': 0,\n",
       " 'BB_1564': 0,\n",
       " 'BB_1572': 0,\n",
       " 'BB_1573': 0,\n",
       " 'BB_1574': 0,\n",
       " 'BB_1576': 0,\n",
       " 'BB_1577': 0,\n",
       " 'BB_1581': 0,\n",
       " 'BB_1601': 0,\n",
       " 'BB_940': 0,\n",
       " 'BB_941': 0,\n",
       " 'BB_943': 0,\n",
       " 'BB_944': 0,\n",
       " 'BB_945': 0,\n",
       " 'BB_946': 0,\n",
       " 'BB_947': 0,\n",
       " 'BB_948': 0,\n",
       " 'BB_949': 0,\n",
       " 'BB_950': 0,\n",
       " 'BB_952': 0,\n",
       " 'BB_953': 0,\n",
       " 'BB_954': 0,\n",
       " 'BB_955': 0,\n",
       " 'BB_956': 0,\n",
       " 'BB_958': 0,\n",
       " 'BB_959': 0,\n",
       " 'BB_960': 0,\n",
       " 'BB_961': 0,\n",
       " 'BB_962': 0,\n",
       " 'BB_963': 0,\n",
       " 'BB_964': 0,\n",
       " 'BB_966': 1,\n",
       " 'BB_967': 0,\n",
       " 'BB_968': 0,\n",
       " 'BB_969': 0,\n",
       " 'BB_970': 0,\n",
       " 'BB_971': 0,\n",
       " 'BB_972': 0,\n",
       " 'BB_973': 0,\n",
       " 'BB_974': 0,\n",
       " 'BB_975': 0,\n",
       " 'BB_978': 0,\n",
       " '_sa_instance_state': <sqlalchemy.orm.state.InstanceState at 0x1036c2908>,\n",
       " 'otu_id': 1}"
      ]
     },
     "execution_count": 32,
     "metadata": {},
     "output_type": "execute_result"
    }
   ],
   "source": [
    "samples_data = session.query(samples).first()\n",
    "samples_data.__dict__"
   ]
  },
  {
   "cell_type": "code",
   "execution_count": 33,
   "metadata": {},
   "outputs": [
    {
     "name": "stdout",
     "output_type": "stream",
     "text": [
      "<sqlalchemy.ext.automap.samples object at 0x1036c28d0>\n"
     ]
    }
   ],
   "source": [
    "samples_data = session.query(samples).first()\n",
    "print(samples_data)"
   ]
  },
  {
   "cell_type": "code",
   "execution_count": 20,
   "metadata": {},
   "outputs": [
    {
     "data": {
      "text/plain": [
       "{'AGE': 24,\n",
       " 'BBTYPE': 'I',\n",
       " 'CAT': 'no',\n",
       " 'COUNTRY012': 'usa',\n",
       " 'COUNTRY1319': 'usa',\n",
       " 'DOG': 'no',\n",
       " 'ETHNICITY': 'Caucasian',\n",
       " 'EVENT': 'BellyButtonsScienceOnline',\n",
       " 'GENDER': 'F',\n",
       " 'IMPSURFACE013': 8852,\n",
       " 'IMPSURFACE1319': 1,\n",
       " 'LOCATION': 'Beaufort/NC',\n",
       " 'MMAXTEMP013': 54.5,\n",
       " 'MMAXTEMP1319': 33.99000168,\n",
       " 'NPP013': 37.17222214,\n",
       " 'NPP1319': 0.0,\n",
       " 'PFC013': 0.0,\n",
       " 'PFC1319': 25.5,\n",
       " 'SAMPLEID': 940,\n",
       " 'WFREQ': 2,\n",
       " 'ZIP012': 22306,\n",
       " 'ZIP1319': 22306,\n",
       " '_sa_instance_state': <sqlalchemy.orm.state.InstanceState at 0x10e251630>}"
      ]
     },
     "execution_count": 20,
     "metadata": {},
     "output_type": "execute_result"
    }
   ],
   "source": [
    "samples_metadata_data = session.query(samples_metadata).first()\n",
    "samples_metadata_data.__dict__    # all the attributes which are described in object are printed out \"_dict_\""
   ]
  },
  {
   "cell_type": "code",
   "execution_count": 21,
   "metadata": {},
   "outputs": [
    {
     "name": "stdout",
     "output_type": "stream",
     "text": [
      "SELECT samples.\"BB_1572\" AS \"samples_BB_1572\" \n",
      "FROM samples\n"
     ]
    }
   ],
   "source": [
    "all_names = session.query(samples.BB_1572) \n",
    "print(all_names)"
   ]
  },
  {
   "cell_type": "code",
   "execution_count": null,
   "metadata": {
    "collapsed": true
   },
   "outputs": [],
   "source": []
  },
  {
   "cell_type": "markdown",
   "metadata": {
    "collapsed": true
   },
   "source": [
    "# Starting a new section with Simons suggestions"
   ]
  },
  {
   "cell_type": "code",
   "execution_count": null,
   "metadata": {
    "collapsed": true
   },
   "outputs": [],
   "source": []
  },
  {
   "cell_type": "code",
   "execution_count": 50,
   "metadata": {},
   "outputs": [
    {
     "name": "stderr",
     "output_type": "stream",
     "text": [
      "/Users/sunitharamakrishnan/anaconda3/envs/PythonData/lib/python3.6/site-packages/flask_sqlalchemy/__init__.py:794: FSADeprecationWarning: SQLALCHEMY_TRACK_MODIFICATIONS adds significant overhead and will be disabled by default in the future.  Set it to True or False to suppress this warning.\n",
      "  'SQLALCHEMY_TRACK_MODIFICATIONS adds significant overhead and '\n"
     ]
    }
   ],
   "source": [
    "import sqlalchemy\n",
    "from sqlalchemy.ext.automap import automap_base\n",
    "from sqlalchemy import create_engine\n",
    "from sqlalchemy.orm import Session\n",
    "from sqlalchemy import MetaData\n",
    "\n",
    "import pandas as pd\n",
    "from flask import Flask, render_template, jsonify\n",
    "from flask_sqlalchemy import SQLAlchemy\n",
    "\n",
    " \n",
    "#conda install -c conda-forge flask-sqlalchemy\n",
    "\n",
    " \n",
    "\n",
    "\n",
    "#################################################\n",
    "# Flask Setup\n",
    "#################################################\n",
    "app = Flask(__name__)\n",
    "\n",
    "#################################################\n",
    "# Database Setup\n",
    "#################################################\n",
    "\n",
    "# The database URI\n",
    "app.config['SQLALCHEMY_DATABASE_URI'] = \"sqlite:///db/belly_button_biodiversity.sqlite\"\n",
    "\n",
    "db = SQLAlchemy(app)\n",
    "\n",
    "engine = create_engine(\"sqlite:///db/belly_button_biodiversity.sqlite\")\n",
    "Base = automap_base()\n",
    "Base.prepare(engine, reflect=True)\n",
    "Otu = Base.classes.otu\n",
    "Sm = Base.classes.samples_metadata\n",
    "Sa = Base.classes.samples"
   ]
  },
  {
   "cell_type": "code",
   "execution_count": 51,
   "metadata": {},
   "outputs": [
    {
     "name": "stdout",
     "output_type": "stream",
     "text": [
      "<sqlalchemy.orm.session.Session object at 0x1067e25c0>\n"
     ]
    }
   ],
   "source": [
    "# Create a session\n",
    "session = Session(engine)\n",
    "print(session)"
   ]
  },
  {
   "cell_type": "code",
   "execution_count": 52,
   "metadata": {
    "collapsed": true
   },
   "outputs": [],
   "source": [
    "# Create a MetaData instance\n",
    "metadata = MetaData()\n",
    "\n",
    "# reflect db schema to MetaData\n",
    "metadata.reflect(bind=engine)\n"
   ]
  },
  {
   "cell_type": "code",
   "execution_count": 53,
   "metadata": {
    "collapsed": true
   },
   "outputs": [],
   "source": [
    "#################################################\n",
    "# Flask Routes\n",
    "#################################################\n",
    "\n",
    "@app.route(\"/\")\n",
    "def home():\n",
    "    \"\"\"Return the dashboard homepage.\"\"\"\n",
    "    return render_template(\"new.html\") \n",
    "\n",
    " \n"
   ]
  },
  {
   "cell_type": "code",
   "execution_count": 54,
   "metadata": {},
   "outputs": [
    {
     "name": "stdout",
     "output_type": "stream",
     "text": [
      "['BB_940', 'BB_941', 'BB_943', 'BB_944', 'BB_945', 'BB_946', 'BB_947', 'BB_948', 'BB_949', 'BB_950', 'BB_952', 'BB_953', 'BB_954', 'BB_955', 'BB_956', 'BB_958', 'BB_959', 'BB_960', 'BB_961', 'BB_962', 'BB_963', 'BB_964', 'BB_966', 'BB_967', 'BB_968', 'BB_969', 'BB_970', 'BB_971', 'BB_972', 'BB_973', 'BB_974', 'BB_975', 'BB_978', 'BB_1233', 'BB_1234', 'BB_1235', 'BB_1236', 'BB_1237', 'BB_1238', 'BB_1242', 'BB_1243', 'BB_1246', 'BB_1253', 'BB_1254', 'BB_1258', 'BB_1259', 'BB_1260', 'BB_1264', 'BB_1265', 'BB_1273', 'BB_1275', 'BB_1276', 'BB_1277', 'BB_1278', 'BB_1279', 'BB_1280', 'BB_1281', 'BB_1282', 'BB_1283', 'BB_1284', 'BB_1285', 'BB_1286', 'BB_1287', 'BB_1288', 'BB_1289', 'BB_1290', 'BB_1291', 'BB_1292', 'BB_1293', 'BB_1294', 'BB_1295', 'BB_1296', 'BB_1297', 'BB_1298', 'BB_1308', 'BB_1309', 'BB_1310', 'BB_1374', 'BB_1415', 'BB_1439', 'BB_1441', 'BB_1443', 'BB_1486', 'BB_1487', 'BB_1489', 'BB_1490', 'BB_1491', 'BB_1494', 'BB_1495', 'BB_1497', 'BB_1499', 'BB_1500', 'BB_1501', 'BB_1502', 'BB_1503', 'BB_1504', 'BB_1505', 'BB_1506', 'BB_1507', 'BB_1508', 'BB_1510', 'BB_1511', 'BB_1512', 'BB_1513', 'BB_1514', 'BB_1515', 'BB_1516', 'BB_1517', 'BB_1518', 'BB_1519', 'BB_1521', 'BB_1524', 'BB_1526', 'BB_1527', 'BB_1530', 'BB_1531', 'BB_1532', 'BB_1533', 'BB_1534', 'BB_1535', 'BB_1536', 'BB_1537', 'BB_1539', 'BB_1540', 'BB_1541', 'BB_1542', 'BB_1543', 'BB_1544', 'BB_1545', 'BB_1546', 'BB_1547', 'BB_1548', 'BB_1549', 'BB_1550', 'BB_1551', 'BB_1552', 'BB_1553', 'BB_1554', 'BB_1555', 'BB_1556', 'BB_1557', 'BB_1558', 'BB_1561', 'BB_1562', 'BB_1563', 'BB_1564', 'BB_1572', 'BB_1573', 'BB_1574', 'BB_1576', 'BB_1577', 'BB_1581', 'BB_1601']\n"
     ]
    },
    {
     "data": {
      "text/plain": [
       "list"
      ]
     },
     "execution_count": 54,
     "metadata": {},
     "output_type": "execute_result"
    }
   ],
   "source": [
    "from sqlalchemy import MetaData\n",
    "# Create a MetaData instance\n",
    "metadata = MetaData()\n",
    "\n",
    "# reflect db schema to MetaData\n",
    "metadata.reflect(bind=engine)\n",
    "\n",
    "# List of names\n",
    "sample_names = metadata.tables['samples'].columns.keys()\n",
    "names = sample_names[1:len(sample_names)]\n",
    "print(names)\n",
    "type(names)"
   ]
  },
  {
   "cell_type": "code",
   "execution_count": 55,
   "metadata": {},
   "outputs": [
    {
     "data": {
      "text/plain": [
       "0       BB_940\n",
       "1       BB_941\n",
       "2       BB_943\n",
       "3       BB_944\n",
       "4       BB_945\n",
       "5       BB_946\n",
       "6       BB_947\n",
       "7       BB_948\n",
       "8       BB_949\n",
       "9       BB_950\n",
       "10      BB_952\n",
       "11      BB_953\n",
       "12      BB_954\n",
       "13      BB_955\n",
       "14      BB_956\n",
       "15      BB_958\n",
       "16      BB_959\n",
       "17      BB_960\n",
       "18      BB_961\n",
       "19      BB_962\n",
       "20      BB_963\n",
       "21      BB_964\n",
       "22      BB_966\n",
       "23      BB_967\n",
       "24      BB_968\n",
       "25      BB_969\n",
       "26      BB_970\n",
       "27      BB_971\n",
       "28      BB_972\n",
       "29      BB_973\n",
       "        ...   \n",
       "123    BB_1540\n",
       "124    BB_1541\n",
       "125    BB_1542\n",
       "126    BB_1543\n",
       "127    BB_1544\n",
       "128    BB_1545\n",
       "129    BB_1546\n",
       "130    BB_1547\n",
       "131    BB_1548\n",
       "132    BB_1549\n",
       "133    BB_1550\n",
       "134    BB_1551\n",
       "135    BB_1552\n",
       "136    BB_1553\n",
       "137    BB_1554\n",
       "138    BB_1555\n",
       "139    BB_1556\n",
       "140    BB_1557\n",
       "141    BB_1558\n",
       "142    BB_1561\n",
       "143    BB_1562\n",
       "144    BB_1563\n",
       "145    BB_1564\n",
       "146    BB_1572\n",
       "147    BB_1573\n",
       "148    BB_1574\n",
       "149    BB_1576\n",
       "150    BB_1577\n",
       "151    BB_1581\n",
       "152    BB_1601\n",
       "Length: 153, dtype: object"
      ]
     },
     "execution_count": 55,
     "metadata": {},
     "output_type": "execute_result"
    }
   ],
   "source": [
    "df = pd.Series( (name[0:] for name in names) )\n",
    "df"
   ]
  },
  {
   "cell_type": "code",
   "execution_count": 56,
   "metadata": {
    "collapsed": true
   },
   "outputs": [],
   "source": [
    "@app.route('/names')\n",
    "def names():\n",
    "    \"\"\"List of sample names.\n",
    "\n",
    "    Returns a list of sample names in the format\n",
    "    [\n",
    "        \"BB_940\",\n",
    "        \"BB_941\",\n",
    "        \"BB_943\",\n",
    "        \"BB_944\",\n",
    "        \"BB_945\",\n",
    "        \"BB_946\",\n",
    "        \"BB_947\",\n",
    "        ...\n",
    "    ]\"\"\"\n",
    " \n",
    " \n",
    "    # List of names\n",
    "    sample_names = metadata.tables['samples'].columns.keys()\n",
    "    names = sample_names[1:len(sample_names)]\n",
    "    #print(names)\n",
    "    #df = pd.Series( (name[0:] for name in names) )\n",
    "    #return (df)\n",
    "   \n",
    "    \n",
    "    \n",
    "    "
   ]
  },
  {
   "cell_type": "code",
   "execution_count": 57,
   "metadata": {},
   "outputs": [],
   "source": [
    "@app.route('/otu')\n",
    "def otu():\n",
    "    \"\"\"List of OTU descriptions.\n",
    "\n",
    "    Returns a list of OTU descriptions in the following format\n",
    "\n",
    "    [\n",
    "        \"Archaea;Euryarchaeota;Halobacteria;Halobacteriales;Halobacteriaceae;Halococcus\",\n",
    "        \"Archaea;Euryarchaeota;Halobacteria;Halobacteriales;Halobacteriaceae;Halococcus\",\n",
    "        \"Bacteria\",\n",
    "        \"Bacteria\",\n",
    "        \"Bacteria\",\n",
    "        ...\n",
    "    ]\"\"\"\n",
    "    \n",
    "    results = db.session.query(OTU.otu_id, OTU.lowest_taxonomic_unit_found).\\\n",
    "        order_by(OTU.otu_id).all()\n",
    "        #limit(10).all()\n",
    " \n",
    "    otu_id = [row[0] for row in results]\n",
    "    names = [row[1] for row in results]\n",
    " \n",
    "\n",
    "    return jsonify({\"names\":names})\n",
    "\n",
    "\n",
    " \n"
   ]
  },
  {
   "cell_type": "code",
   "execution_count": 58,
   "metadata": {},
   "outputs": [
    {
     "name": "stderr",
     "output_type": "stream",
     "text": [
      " * Running on http://127.0.0.1:5000/ (Press CTRL+C to quit)\n",
      " * Restarting with stat\n"
     ]
    },
    {
     "ename": "SystemExit",
     "evalue": "1",
     "output_type": "error",
     "traceback": [
      "An exception has occurred, use %tb to see the full traceback.\n",
      "\u001b[0;31mSystemExit\u001b[0m\u001b[0;31m:\u001b[0m 1\n"
     ]
    },
    {
     "name": "stderr",
     "output_type": "stream",
     "text": [
      "/Users/sunitharamakrishnan/anaconda3/envs/PythonData/lib/python3.6/site-packages/IPython/core/interactiveshell.py:2870: UserWarning: To exit: use 'exit', 'quit', or Ctrl-D.\n",
      "  warn(\"To exit: use 'exit', 'quit', or Ctrl-D.\", stacklevel=1)\n"
     ]
    }
   ],
   "source": [
    "if __name__ == \"__main__\":\n",
    "    app.run(debug=True) "
   ]
  },
  {
   "cell_type": "code",
   "execution_count": 73,
   "metadata": {},
   "outputs": [
    {
     "name": "stdout",
     "output_type": "stream",
     "text": [
      "[(11, 1, 0, 0), (19, 1, 0, 0), (22, 1, 0, 0), (24, 1, 0, 0), (39, 1, 0, 0), (41, 71, 4, 0), (42, 1, 0, 0), (79, 1, 0, 0), (81, 1, 0, 0), (84, 1, 0, 0), (93, 1, 0, 0), (102, 1, 0, 0), (121, 2, 0, 0), (122, 1, 0, 0), (133, 1, 0, 0), (154, 1, 0, 0), (159, 2, 0, 0), (165, 12, 0, 0), (170, 2, 0, 0), (185, 1, 0, 0), (189, 47, 2, 0), (198, 1, 0, 0), (226, 1, 0, 0), (235, 1, 0, 0), (244, 1, 0, 0), (246, 1, 0, 0), (258, 2, 0, 0), (259, 2, 0, 0), (300, 1, 0, 0), (307, 7, 1, 0), (314, 1, 1, 0), (320, 1, 0, 0), (327, 1, 0, 0), (328, 1, 0, 0), (340, 2, 0, 0), (342, 2, 0, 0), (352, 50, 3, 0), (357, 2, 0, 0), (359, 1, 0, 0), (361, 1, 0, 0), (373, 1, 0, 0), (381, 1, 0, 0), (386, 1, 0, 0), (400, 1, 0, 0), (404, 1, 0, 0), (407, 1, 0, 0), (412, 2, 0, 0), (414, 1, 0, 0), (482, 113, 8, 0), (513, 2, 0, 0), (564, 1, 0, 0), (593, 1, 0, 0), (620, 1, 0, 0), (650, 1, 0, 0), (725, 2, 0, 0), (728, 1, 3, 0), (791, 1, 0, 0), (794, 1, 0, 0), (821, 1, 0, 0), (830, 10, 1, 0), (833, 3, 0, 0), (841, 1, 0, 0), (854, 1, 2, 0), (866, 1, 0, 0), (874, 36, 8, 0), (881, 1, 0, 0), (907, 3, 0, 0), (919, 1, 1, 0), (922, 1, 27, 1), (944, 19, 178, 0), (1094, 1, 0, 0), (1115, 1, 0, 0), (1155, 1, 0, 0), (1159, 1, 0, 0), (1167, 163, 24, 0), (1169, 2, 0, 0), (1174, 1, 0, 0), (1179, 1, 0, 0), (1189, 51, 0, 0), (1191, 1, 0, 0), (1193, 6, 0, 0), (1199, 1, 1, 0), (1208, 5, 0, 0), (1217, 1, 0, 0), (1223, 1, 0, 0), (1227, 1, 0, 0), (1232, 2, 0, 0), (1243, 1, 0, 0), (1254, 1, 0, 0), (1274, 4, 0, 0), (1314, 3, 28, 0), (1484, 1, 0, 0), (1495, 1, 0, 0), (1496, 1, 0, 0), (1497, 2, 0, 0), (1498, 2, 0, 0), (1501, 1, 0, 0), (1502, 1, 0, 0), (1503, 2, 0, 0), (1505, 2, 0, 0), (1515, 1, 0, 0), (1524, 1, 0, 0), (1576, 1, 0, 0), (1600, 1, 1, 0), (1795, 10, 40, 2), (1935, 1, 0, 0), (1944, 1, 0, 0), (1947, 1, 0, 0), (1950, 25, 0, 0), (1954, 1, 0, 0), (1959, 30, 3, 0), (1960, 2, 0, 0), (1962, 3, 0, 0), (1965, 1, 0, 0), (1968, 2, 0, 0), (1977, 40, 2, 0), (1984, 1, 0, 0), (1991, 1, 0, 0), (1997, 1, 0, 0), (2011, 11, 0, 0), (2024, 13, 0, 0), (2036, 1, 0, 0), (2039, 5, 0, 0), (2040, 1, 0, 0), (2051, 1, 0, 0), (2054, 1, 0, 0), (2062, 1, 0, 0), (2065, 2, 0, 0), (2068, 1, 0, 0), (2077, 23, 1, 0), (2080, 1, 0, 0), (2084, 1, 0, 0), (2093, 1, 0, 0), (2096, 1, 0, 0), (2110, 2, 0, 0), (2114, 1, 0, 0), (2115, 1, 0, 0), (2136, 1, 0, 0), (2165, 1, 0, 0), (2167, 5, 0, 0), (2178, 7, 0, 0), (2184, 19, 0, 0), (2186, 3, 0, 0), (2188, 2, 0, 0), (2191, 28, 0, 0), (2192, 1, 0, 0), (2197, 1, 0, 0), (2202, 1, 0, 0), (2212, 1, 0, 0), (2216, 1, 0, 0), (2217, 1, 0, 0), (2229, 1, 0, 0), (2235, 2, 0, 0), (2244, 14, 0, 0), (2247, 11, 0, 0), (2256, 1, 0, 0), (2263, 1, 0, 0), (2264, 78, 4, 0), (2268, 1, 0, 0), (2275, 22, 1, 0), (2291, 2, 0, 0), (2318, 40, 1, 0), (2334, 1, 0, 0), (2335, 3, 0, 0), (2342, 2, 0, 0), (2350, 2, 0, 0), (2396, 11, 0, 0), (2413, 1, 0, 0), (2419, 13, 162, 0), (2423, 1, 0, 0), (2473, 1, 0, 0), (2475, 2, 0, 0), (2483, 2, 0, 0), (2491, 2, 0, 0), (2508, 1, 0, 0), (2539, 1, 92, 0), (2542, 1, 0, 0), (2546, 2, 0, 0), (2549, 1, 0, 0), (2571, 2, 0, 0), (2603, 1, 0, 0), (2633, 1, 0, 0), (2722, 8, 194, 0), (2737, 4, 0, 0), (2739, 4, 0, 0), (2750, 1, 0, 0), (2752, 1, 0, 0), (2753, 1, 0, 0), (2758, 1, 0, 0), (2782, 12, 3, 0), (2795, 1, 0, 0), (2811, 13, 0, 0), (2820, 1, 0, 0), (2829, 1, 0, 0), (2837, 1, 0, 0), (2840, 1, 0, 0), (2852, 1, 0, 0), (2859, 126, 21, 0), (2873, 1, 0, 0), (2876, 1, 0, 0), (2908, 7, 5, 0), (2915, 1, 0, 0), (2917, 1, 0, 0), (2936, 3, 0, 0), (2949, 1, 0, 0), (2964, 10, 13, 0), (2968, 1, 0, 0), (2985, 1, 0, 0), (2989, 1, 0, 0), (2994, 1, 0, 0), (3427, 1, 0, 0), (3439, 1, 0, 0), (3450, 37, 84, 0), (3453, 1, 0, 0)]\n"
     ]
    }
   ],
   "source": [
    "results = db.session.query(Sa.otu_id,Sa.BB_940, Sa.BB_941, Sa.BB_943).\\\n",
    "          filter((Sa.BB_940 > 0)).\\\n",
    "          order_by(Sa.otu_id).all()\n",
    "print(results)"
   ]
  },
  {
   "cell_type": "code",
   "execution_count": 74,
   "metadata": {
    "collapsed": true
   },
   "outputs": [],
   "source": [
    "# Dependencies\n",
    "import pandas as pd\n",
    "import numpy as np\n",
    "import os"
   ]
  },
  {
   "cell_type": "code",
   "execution_count": 78,
   "metadata": {},
   "outputs": [
    {
     "data": {
      "text/html": [
       "<div>\n",
       "<style>\n",
       "    .dataframe thead tr:only-child th {\n",
       "        text-align: right;\n",
       "    }\n",
       "\n",
       "    .dataframe thead th {\n",
       "        text-align: left;\n",
       "    }\n",
       "\n",
       "    .dataframe tbody tr th {\n",
       "        vertical-align: top;\n",
       "    }\n",
       "</style>\n",
       "<table border=\"1\" class=\"dataframe\">\n",
       "  <thead>\n",
       "    <tr style=\"text-align: right;\">\n",
       "      <th></th>\n",
       "      <th>otu_id</th>\n",
       "      <th>BB_940</th>\n",
       "      <th>BB_941</th>\n",
       "      <th>BB_943</th>\n",
       "      <th>BB_944</th>\n",
       "      <th>BB_945</th>\n",
       "      <th>BB_946</th>\n",
       "      <th>BB_947</th>\n",
       "      <th>BB_948</th>\n",
       "      <th>BB_949</th>\n",
       "      <th>...</th>\n",
       "      <th>BB_1562</th>\n",
       "      <th>BB_1563</th>\n",
       "      <th>BB_1564</th>\n",
       "      <th>BB_1572</th>\n",
       "      <th>BB_1573</th>\n",
       "      <th>BB_1574</th>\n",
       "      <th>BB_1576</th>\n",
       "      <th>BB_1577</th>\n",
       "      <th>BB_1581</th>\n",
       "      <th>BB_1601</th>\n",
       "    </tr>\n",
       "  </thead>\n",
       "  <tbody>\n",
       "    <tr>\n",
       "      <th>0</th>\n",
       "      <td>1</td>\n",
       "      <td>0.0</td>\n",
       "      <td>0</td>\n",
       "      <td>0</td>\n",
       "      <td>0</td>\n",
       "      <td>0</td>\n",
       "      <td>0</td>\n",
       "      <td>0</td>\n",
       "      <td>0.0</td>\n",
       "      <td>0</td>\n",
       "      <td>...</td>\n",
       "      <td>0</td>\n",
       "      <td>0</td>\n",
       "      <td>0</td>\n",
       "      <td>0</td>\n",
       "      <td>0</td>\n",
       "      <td>0</td>\n",
       "      <td>0</td>\n",
       "      <td>0</td>\n",
       "      <td>0</td>\n",
       "      <td>0</td>\n",
       "    </tr>\n",
       "    <tr>\n",
       "      <th>1</th>\n",
       "      <td>2</td>\n",
       "      <td>0.0</td>\n",
       "      <td>0</td>\n",
       "      <td>0</td>\n",
       "      <td>0</td>\n",
       "      <td>0</td>\n",
       "      <td>0</td>\n",
       "      <td>0</td>\n",
       "      <td>0.0</td>\n",
       "      <td>0</td>\n",
       "      <td>...</td>\n",
       "      <td>0</td>\n",
       "      <td>0</td>\n",
       "      <td>0</td>\n",
       "      <td>0</td>\n",
       "      <td>0</td>\n",
       "      <td>0</td>\n",
       "      <td>0</td>\n",
       "      <td>0</td>\n",
       "      <td>0</td>\n",
       "      <td>0</td>\n",
       "    </tr>\n",
       "    <tr>\n",
       "      <th>2</th>\n",
       "      <td>3</td>\n",
       "      <td>0.0</td>\n",
       "      <td>0</td>\n",
       "      <td>0</td>\n",
       "      <td>0</td>\n",
       "      <td>0</td>\n",
       "      <td>0</td>\n",
       "      <td>0</td>\n",
       "      <td>0.0</td>\n",
       "      <td>0</td>\n",
       "      <td>...</td>\n",
       "      <td>0</td>\n",
       "      <td>0</td>\n",
       "      <td>0</td>\n",
       "      <td>0</td>\n",
       "      <td>0</td>\n",
       "      <td>0</td>\n",
       "      <td>0</td>\n",
       "      <td>0</td>\n",
       "      <td>0</td>\n",
       "      <td>0</td>\n",
       "    </tr>\n",
       "    <tr>\n",
       "      <th>3</th>\n",
       "      <td>4</td>\n",
       "      <td>0.0</td>\n",
       "      <td>0</td>\n",
       "      <td>0</td>\n",
       "      <td>0</td>\n",
       "      <td>0</td>\n",
       "      <td>0</td>\n",
       "      <td>0</td>\n",
       "      <td>0.0</td>\n",
       "      <td>0</td>\n",
       "      <td>...</td>\n",
       "      <td>0</td>\n",
       "      <td>0</td>\n",
       "      <td>0</td>\n",
       "      <td>0</td>\n",
       "      <td>0</td>\n",
       "      <td>0</td>\n",
       "      <td>0</td>\n",
       "      <td>0</td>\n",
       "      <td>0</td>\n",
       "      <td>0</td>\n",
       "    </tr>\n",
       "    <tr>\n",
       "      <th>4</th>\n",
       "      <td>5</td>\n",
       "      <td>0.0</td>\n",
       "      <td>0</td>\n",
       "      <td>0</td>\n",
       "      <td>0</td>\n",
       "      <td>0</td>\n",
       "      <td>0</td>\n",
       "      <td>0</td>\n",
       "      <td>0.0</td>\n",
       "      <td>0</td>\n",
       "      <td>...</td>\n",
       "      <td>0</td>\n",
       "      <td>0</td>\n",
       "      <td>0</td>\n",
       "      <td>0</td>\n",
       "      <td>0</td>\n",
       "      <td>0</td>\n",
       "      <td>0</td>\n",
       "      <td>0</td>\n",
       "      <td>0</td>\n",
       "      <td>0</td>\n",
       "    </tr>\n",
       "  </tbody>\n",
       "</table>\n",
       "<p>5 rows × 154 columns</p>\n",
       "</div>"
      ],
      "text/plain": [
       "   otu_id  BB_940  BB_941  BB_943  BB_944  BB_945  BB_946  BB_947  BB_948  \\\n",
       "0       1     0.0       0       0       0       0       0       0     0.0   \n",
       "1       2     0.0       0       0       0       0       0       0     0.0   \n",
       "2       3     0.0       0       0       0       0       0       0     0.0   \n",
       "3       4     0.0       0       0       0       0       0       0     0.0   \n",
       "4       5     0.0       0       0       0       0       0       0     0.0   \n",
       "\n",
       "   BB_949   ...     BB_1562  BB_1563  BB_1564  BB_1572  BB_1573  BB_1574  \\\n",
       "0       0   ...           0        0        0        0        0        0   \n",
       "1       0   ...           0        0        0        0        0        0   \n",
       "2       0   ...           0        0        0        0        0        0   \n",
       "3       0   ...           0        0        0        0        0        0   \n",
       "4       0   ...           0        0        0        0        0        0   \n",
       "\n",
       "   BB_1576  BB_1577  BB_1581  BB_1601  \n",
       "0        0        0        0        0  \n",
       "1        0        0        0        0  \n",
       "2        0        0        0        0  \n",
       "3        0        0        0        0  \n",
       "4        0        0        0        0  \n",
       "\n",
       "[5 rows x 154 columns]"
      ]
     },
     "execution_count": 78,
     "metadata": {},
     "output_type": "execute_result"
    }
   ],
   "source": [
    "# Create a reference the CSV belly_button samples table .csv\n",
    "samples_csv_path = \"DataSets/belly_button_biodiversity_samples.csv\"\n",
    "\n",
    "# Read the schools CSV into a Pandas DataFrame\n",
    "samples_df = pd.read_csv(samples_csv_path)\n",
    "samples_df.head()"
   ]
  },
  {
   "cell_type": "code",
   "execution_count": 92,
   "metadata": {},
   "outputs": [
    {
     "data": {
      "text/html": [
       "<div>\n",
       "<style>\n",
       "    .dataframe thead tr:only-child th {\n",
       "        text-align: right;\n",
       "    }\n",
       "\n",
       "    .dataframe thead th {\n",
       "        text-align: left;\n",
       "    }\n",
       "\n",
       "    .dataframe tbody tr th {\n",
       "        vertical-align: top;\n",
       "    }\n",
       "</style>\n",
       "<table border=\"1\" class=\"dataframe\">\n",
       "  <thead>\n",
       "    <tr style=\"text-align: right;\">\n",
       "      <th></th>\n",
       "      <th>otu_id</th>\n",
       "      <th>BB_940</th>\n",
       "      <th>BB_941</th>\n",
       "      <th>BB_943</th>\n",
       "      <th>BB_944</th>\n",
       "      <th>BB_945</th>\n",
       "      <th>BB_946</th>\n",
       "      <th>BB_947</th>\n",
       "      <th>BB_948</th>\n",
       "      <th>BB_949</th>\n",
       "      <th>...</th>\n",
       "      <th>BB_1562</th>\n",
       "      <th>BB_1563</th>\n",
       "      <th>BB_1564</th>\n",
       "      <th>BB_1572</th>\n",
       "      <th>BB_1573</th>\n",
       "      <th>BB_1574</th>\n",
       "      <th>BB_1576</th>\n",
       "      <th>BB_1577</th>\n",
       "      <th>BB_1581</th>\n",
       "      <th>BB_1601</th>\n",
       "    </tr>\n",
       "  </thead>\n",
       "  <tbody>\n",
       "    <tr>\n",
       "      <th>3673</th>\n",
       "      <td>3674</td>\n",
       "      <td>0.0</td>\n",
       "      <td>0</td>\n",
       "      <td>0</td>\n",
       "      <td>0</td>\n",
       "      <td>0</td>\n",
       "      <td>0</td>\n",
       "      <td>0</td>\n",
       "      <td>0.0</td>\n",
       "      <td>0</td>\n",
       "      <td>...</td>\n",
       "      <td>0</td>\n",
       "      <td>0</td>\n",
       "      <td>0</td>\n",
       "      <td>0</td>\n",
       "      <td>0</td>\n",
       "      <td>0</td>\n",
       "      <td>0</td>\n",
       "      <td>0</td>\n",
       "      <td>0</td>\n",
       "      <td>0</td>\n",
       "    </tr>\n",
       "    <tr>\n",
       "      <th>3672</th>\n",
       "      <td>3673</td>\n",
       "      <td>0.0</td>\n",
       "      <td>0</td>\n",
       "      <td>0</td>\n",
       "      <td>0</td>\n",
       "      <td>0</td>\n",
       "      <td>0</td>\n",
       "      <td>0</td>\n",
       "      <td>0.0</td>\n",
       "      <td>0</td>\n",
       "      <td>...</td>\n",
       "      <td>0</td>\n",
       "      <td>0</td>\n",
       "      <td>0</td>\n",
       "      <td>0</td>\n",
       "      <td>0</td>\n",
       "      <td>0</td>\n",
       "      <td>0</td>\n",
       "      <td>0</td>\n",
       "      <td>0</td>\n",
       "      <td>0</td>\n",
       "    </tr>\n",
       "    <tr>\n",
       "      <th>3671</th>\n",
       "      <td>3672</td>\n",
       "      <td>0.0</td>\n",
       "      <td>0</td>\n",
       "      <td>0</td>\n",
       "      <td>0</td>\n",
       "      <td>0</td>\n",
       "      <td>0</td>\n",
       "      <td>0</td>\n",
       "      <td>0.0</td>\n",
       "      <td>0</td>\n",
       "      <td>...</td>\n",
       "      <td>0</td>\n",
       "      <td>0</td>\n",
       "      <td>0</td>\n",
       "      <td>0</td>\n",
       "      <td>0</td>\n",
       "      <td>0</td>\n",
       "      <td>138</td>\n",
       "      <td>0</td>\n",
       "      <td>0</td>\n",
       "      <td>0</td>\n",
       "    </tr>\n",
       "    <tr>\n",
       "      <th>3670</th>\n",
       "      <td>3671</td>\n",
       "      <td>0.0</td>\n",
       "      <td>0</td>\n",
       "      <td>0</td>\n",
       "      <td>0</td>\n",
       "      <td>0</td>\n",
       "      <td>0</td>\n",
       "      <td>0</td>\n",
       "      <td>0.0</td>\n",
       "      <td>0</td>\n",
       "      <td>...</td>\n",
       "      <td>0</td>\n",
       "      <td>0</td>\n",
       "      <td>0</td>\n",
       "      <td>0</td>\n",
       "      <td>0</td>\n",
       "      <td>0</td>\n",
       "      <td>0</td>\n",
       "      <td>0</td>\n",
       "      <td>0</td>\n",
       "      <td>0</td>\n",
       "    </tr>\n",
       "    <tr>\n",
       "      <th>3669</th>\n",
       "      <td>3670</td>\n",
       "      <td>0.0</td>\n",
       "      <td>0</td>\n",
       "      <td>0</td>\n",
       "      <td>0</td>\n",
       "      <td>0</td>\n",
       "      <td>0</td>\n",
       "      <td>0</td>\n",
       "      <td>0.0</td>\n",
       "      <td>0</td>\n",
       "      <td>...</td>\n",
       "      <td>0</td>\n",
       "      <td>0</td>\n",
       "      <td>0</td>\n",
       "      <td>0</td>\n",
       "      <td>0</td>\n",
       "      <td>0</td>\n",
       "      <td>1</td>\n",
       "      <td>0</td>\n",
       "      <td>0</td>\n",
       "      <td>0</td>\n",
       "    </tr>\n",
       "  </tbody>\n",
       "</table>\n",
       "<p>5 rows × 154 columns</p>\n",
       "</div>"
      ],
      "text/plain": [
       "      otu_id  BB_940  BB_941  BB_943  BB_944  BB_945  BB_946  BB_947  BB_948  \\\n",
       "3673    3674     0.0       0       0       0       0       0       0     0.0   \n",
       "3672    3673     0.0       0       0       0       0       0       0     0.0   \n",
       "3671    3672     0.0       0       0       0       0       0       0     0.0   \n",
       "3670    3671     0.0       0       0       0       0       0       0     0.0   \n",
       "3669    3670     0.0       0       0       0       0       0       0     0.0   \n",
       "\n",
       "      BB_949   ...     BB_1562  BB_1563  BB_1564  BB_1572  BB_1573  BB_1574  \\\n",
       "3673       0   ...           0        0        0        0        0        0   \n",
       "3672       0   ...           0        0        0        0        0        0   \n",
       "3671       0   ...           0        0        0        0        0        0   \n",
       "3670       0   ...           0        0        0        0        0        0   \n",
       "3669       0   ...           0        0        0        0        0        0   \n",
       "\n",
       "      BB_1576  BB_1577  BB_1581  BB_1601  \n",
       "3673        0        0        0        0  \n",
       "3672        0        0        0        0  \n",
       "3671      138        0        0        0  \n",
       "3670        0        0        0        0  \n",
       "3669        1        0        0        0  \n",
       "\n",
       "[5 rows x 154 columns]"
      ]
     },
     "execution_count": 92,
     "metadata": {},
     "output_type": "execute_result"
    }
   ],
   "source": [
    "test = samples_df.sort_values('otu_id', ascending=False)\n",
    "\n",
    "test.head()"
   ]
  },
  {
   "cell_type": "code",
   "execution_count": null,
   "metadata": {
    "collapsed": true
   },
   "outputs": [],
   "source": [
    "test = df.sort_values('one', ascending=False)"
   ]
  },
  {
   "cell_type": "code",
   "execution_count": null,
   "metadata": {
    "collapsed": true
   },
   "outputs": [],
   "source": []
  },
  {
   "cell_type": "code",
   "execution_count": null,
   "metadata": {
    "collapsed": true
   },
   "outputs": [],
   "source": []
  },
  {
   "cell_type": "code",
   "execution_count": null,
   "metadata": {
    "collapsed": true
   },
   "outputs": [],
   "source": []
  }
 ],
 "metadata": {
  "kernelspec": {
   "display_name": "Python 3",
   "language": "python",
   "name": "python3"
  },
  "language_info": {
   "codemirror_mode": {
    "name": "ipython",
    "version": 3
   },
   "file_extension": ".py",
   "mimetype": "text/x-python",
   "name": "python",
   "nbconvert_exporter": "python",
   "pygments_lexer": "ipython3",
   "version": "3.6.3"
  }
 },
 "nbformat": 4,
 "nbformat_minor": 2
}
